{
  "cells": [
    {
      "cell_type": "code",
      "execution_count": null,
      "id": "366bd7ae",
      "metadata": {
        "execution": {
          "iopub.execute_input": "2022-11-24T09:22:16.255324Z",
          "iopub.status.busy": "2022-11-24T09:22:16.255036Z",
          "iopub.status.idle": "2022-11-24T09:22:19.303178Z",
          "shell.execute_reply": "2022-11-24T09:22:19.302058Z"
        },
        "id": "366bd7ae",
        "outputId": "6b9c57da-eb69-4858-e552-8af8cb36fbfc",
        "papermill": {
          "duration": 3.059178,
          "end_time": "2022-11-24T09:22:19.305613",
          "exception": false,
          "start_time": "2022-11-24T09:22:16.246435",
          "status": "completed"
        },
        "tags": []
      },
      "outputs": [],
      "source": [
        "# For right dependencies on kaggle this library was uninstalled\n",
        "!pip uninstall allennlp -y"
      ]
    },
    {
      "cell_type": "markdown",
      "id": "bd2e260f",
      "metadata": {
        "id": "bd2e260f",
        "papermill": {
          "duration": 0.007883,
          "end_time": "2022-11-24T09:22:19.321843",
          "exception": false,
          "start_time": "2022-11-24T09:22:19.313960",
          "status": "completed"
        },
        "tags": []
      },
      "source": [
        "### Global settings"
      ]
    },
    {
      "cell_type": "code",
      "execution_count": null,
      "id": "af762f76",
      "metadata": {
        "execution": {
          "iopub.execute_input": "2022-11-24T09:22:19.341187Z",
          "iopub.status.busy": "2022-11-24T09:22:19.340196Z",
          "iopub.status.idle": "2022-11-24T09:22:19.346031Z",
          "shell.execute_reply": "2022-11-24T09:22:19.345190Z"
        },
        "id": "af762f76",
        "papermill": {
          "duration": 0.018161,
          "end_time": "2022-11-24T09:22:19.347958",
          "exception": false,
          "start_time": "2022-11-24T09:22:19.329797",
          "status": "completed"
        },
        "tags": []
      },
      "outputs": [],
      "source": [
        "import os\n",
        "\n",
        "OUTPUT_DIR = './'\n",
        "if not os.path.exists(OUTPUT_DIR):\n",
        "    os.makedirs(OUTPUT_DIR)"
      ]
    },
    {
      "cell_type": "markdown",
      "id": "a176ad82",
      "metadata": {
        "id": "a176ad82",
        "papermill": {
          "duration": 0.007787,
          "end_time": "2022-11-24T09:22:19.363968",
          "exception": false,
          "start_time": "2022-11-24T09:22:19.356181",
          "status": "completed"
        },
        "tags": []
      },
      "source": [
        "# CFG"
      ]
    },
    {
      "attachments": {},
      "cell_type": "markdown",
      "id": "BTTTH78oB-Hp",
      "metadata": {
        "id": "BTTTH78oB-Hp"
      },
      "source": [
        "Main points concerning the updated architecture:\n",
        "* We use pretrained weights of deberta-v3-base model \n",
        "* We fine-tune the last linear layer in respect to 6 desired metrics + attention pooling separable for each one\n",
        "* Training via 5-fold cross-validation\n",
        "* Averaging the score using model from each fold"
      ]
    },
    {
      "cell_type": "code",
      "execution_count": null,
      "id": "54bce907",
      "metadata": {
        "execution": {
          "iopub.execute_input": "2022-11-24T09:22:19.381533Z",
          "iopub.status.busy": "2022-11-24T09:22:19.380852Z",
          "iopub.status.idle": "2022-11-24T09:22:19.388086Z",
          "shell.execute_reply": "2022-11-24T09:22:19.387117Z"
        },
        "id": "54bce907",
        "papermill": {
          "duration": 0.017957,
          "end_time": "2022-11-24T09:22:19.389992",
          "exception": false,
          "start_time": "2022-11-24T09:22:19.372035",
          "status": "completed"
        },
        "tags": []
      },
      "outputs": [],
      "source": [
        "model_path = \"/kaggle/input/debertav3base/\"\n",
        "\n",
        "class CFG:\n",
        "    pl_labels = None\n",
        "    wandb = False\n",
        "    wandb_alert_freq = \"every\"  \n",
        "    competition = \"FB3\"  \n",
        "    debug = True\n",
        "    debug_train_size = 200\n",
        "    apex = True\n",
        "    print_freq = 50\n",
        "    num_workers = 2\n",
        "    tokenizer =  model_path \n",
        "    model = model_path  \n",
        "    ckpt_name = model_path  \n",
        "    gradient_checkpointing = True \n",
        "    batch_scheduler = True\n",
        "    scheduler = \"cosine\"\n",
        "    num_cycles = 0.5\n",
        "    use_8bit_optimizer = True\n",
        "    num_warmup_steps = 50\n",
        "    epochs = 3\n",
        "    encoder_lr = 1.5e-5\n",
        "    layerwise_learning_rate_decay = 0.7225 \n",
        "    decoder_lr = 1.5e-5 \n",
        "    min_lr = 1e-6\n",
        "    eps = 1e-6\n",
        "    betas = (0.9, 0.999)\n",
        "    batch_size = 6\n",
        "    infer_batch_size = 8\n",
        "    gradient_accumulation_steps=1\n",
        "    max_len = 640\n",
        "    window_size = 511  \n",
        "    edge_len = 32  \n",
        "    weight_decay = 0.01\n",
        "    decoder_weight_decay = 2\n",
        "    max_grad_norm = 1000 \n",
        "    mlm_ratio = False\n",
        "    layer_reinitialize_n = 1 \n",
        "    freeze_n_layers = 0 \n",
        "    target_cols = [\n",
        "        \"cohesion\",\n",
        "        \"syntax\",\n",
        "        \"vocabulary\",\n",
        "        \"phraseology\",\n",
        "        \"grammar\",\n",
        "        \"conventions\",\n",
        "    ]\n",
        "    seed = 2807 \n",
        "    n_fold = 5\n",
        "    trn_fold = [0, 1, 2, 3, 4]\n",
        "    train = True\n",
        "    eval_step_save_start_epoch = 1\n",
        "    n_eval_steps = int(\n",
        "        3910 * (n_fold - 1) / n_fold / batch_size * 0.201  # high freq validation\n",
        "    )\n",
        "    multi_sample_dropouts = None  # [0.1, 0.2, 0.3, 0.4, 0.5]\n"
      ]
    },
    {
      "cell_type": "markdown",
      "id": "bf1845e5",
      "metadata": {
        "id": "bf1845e5",
        "papermill": {
          "duration": 0.007778,
          "end_time": "2022-11-24T09:22:19.431513",
          "exception": false,
          "start_time": "2022-11-24T09:22:19.423735",
          "status": "completed"
        },
        "tags": []
      },
      "source": [
        "### Imports"
      ]
    },
    {
      "cell_type": "code",
      "execution_count": null,
      "id": "f97faaa7",
      "metadata": {
        "execution": {
          "iopub.execute_input": "2022-11-24T09:22:19.448969Z",
          "iopub.status.busy": "2022-11-24T09:22:19.448214Z",
          "iopub.status.idle": "2022-11-24T09:22:59.542220Z",
          "shell.execute_reply": "2022-11-24T09:22:59.540946Z"
        },
        "id": "f97faaa7",
        "outputId": "487eeee1-1e56-43cb-98a2-4c5375457689",
        "papermill": {
          "duration": 40.105509,
          "end_time": "2022-11-24T09:22:59.544989",
          "exception": false,
          "start_time": "2022-11-24T09:22:19.439480",
          "status": "completed"
        },
        "tags": []
      },
      "outputs": [],
      "source": [
        "import os\n",
        "import gc\n",
        "import re\n",
        "import ast\n",
        "import sys\n",
        "import copy\n",
        "import json\n",
        "import time\n",
        "import math\n",
        "import string\n",
        "import pickle\n",
        "import random\n",
        "import joblib\n",
        "import itertools\n",
        "import warnings\n",
        "warnings.filterwarnings(\"ignore\")\n",
        "\n",
        "import scipy as sp\n",
        "import numpy as np\n",
        "import pandas as pd\n",
        "pd.set_option('display.max_rows', 500)\n",
        "pd.set_option('display.max_columns', 500)\n",
        "pd.set_option('display.width', 1000)\n",
        "from tqdm.auto import tqdm\n",
        "from sklearn.metrics import mean_squared_error\n",
        "from sklearn.model_selection import StratifiedKFold, GroupKFold, KFold\n",
        "\n",
        "os.system('python -m pip install --no-index --find-links=../input/fb3-pip-wheels iterative-stratification')\n",
        "from iterstrat.ml_stratifiers import MultilabelStratifiedKFold\n",
        "\n",
        "import torch\n",
        "import torch.nn as nn\n",
        "from torch.nn import Parameter\n",
        "import torch.nn.functional as F\n",
        "from torch.optim import Adam, SGD, AdamW\n",
        "from torch.utils.data import DataLoader, Dataset\n",
        "\n",
        "os.system('pip uninstall -y transformers')\n",
        "os.system('pip uninstall -y tokenizers')\n",
        "os.system('python -m pip install --no-index --find-links=../input/fb3-pip-wheels transformers')\n",
        "os.system('python -m pip install --no-index --find-links=../input/fb3-pip-wheels tokenizers')\n",
        "import tokenizers\n",
        "import transformers\n",
        "print(f\"tokenizers.__version__: {tokenizers.__version__}\")\n",
        "print(f\"transformers.__version__: {transformers.__version__}\")\n",
        "from transformers import AutoTokenizer, AutoModel, AutoConfig\n",
        "from transformers import get_linear_schedule_with_warmup, get_cosine_schedule_with_warmup\n",
        "%env TOKENIZERS_PARALLELISM=true\n",
        "\n",
        "device = torch.device('cuda' if torch.cuda.is_available() else 'cpu')"
      ]
    },
    {
      "cell_type": "markdown",
      "id": "7b7f9a4c",
      "metadata": {
        "id": "7b7f9a4c",
        "papermill": {
          "duration": 0.010578,
          "end_time": "2022-11-24T09:22:59.566703",
          "exception": false,
          "start_time": "2022-11-24T09:22:59.556125",
          "status": "completed"
        },
        "tags": []
      },
      "source": [
        "## Definition of utils functions"
      ]
    },
    {
      "cell_type": "code",
      "execution_count": null,
      "id": "77c1127b",
      "metadata": {
        "execution": {
          "iopub.execute_input": "2022-11-24T09:22:59.587898Z",
          "iopub.status.busy": "2022-11-24T09:22:59.587366Z",
          "iopub.status.idle": "2022-11-24T09:22:59.601159Z",
          "shell.execute_reply": "2022-11-24T09:22:59.600225Z"
        },
        "id": "77c1127b",
        "papermill": {
          "duration": 0.026186,
          "end_time": "2022-11-24T09:22:59.603065",
          "exception": false,
          "start_time": "2022-11-24T09:22:59.576879",
          "status": "completed"
        },
        "tags": []
      },
      "outputs": [],
      "source": [
        "from utils import (\n",
        "    MCRMSE,\n",
        "    get_score,\n",
        "    get_logger,\n",
        "    seed_everything\n",
        ")\n",
        "\n",
        "LOGGER = get_logger()  \n",
        "seed_everything(seed=2807)"
      ]
    },
    {
      "cell_type": "markdown",
      "id": "3ffba5ee",
      "metadata": {
        "id": "3ffba5ee",
        "papermill": {
          "duration": 0.008825,
          "end_time": "2022-11-24T09:22:59.621272",
          "exception": false,
          "start_time": "2022-11-24T09:22:59.612447",
          "status": "completed"
        },
        "tags": []
      },
      "source": [
        "# Data load"
      ]
    },
    {
      "cell_type": "code",
      "execution_count": null,
      "id": "30d958bd",
      "metadata": {
        "execution": {
          "iopub.execute_input": "2022-11-24T09:22:59.641202Z",
          "iopub.status.busy": "2022-11-24T09:22:59.640453Z",
          "iopub.status.idle": "2022-11-24T09:22:59.898355Z",
          "shell.execute_reply": "2022-11-24T09:22:59.897288Z"
        },
        "id": "30d958bd",
        "outputId": "9201908b-1efe-41c7-c6d1-8cf1693bc7ea",
        "papermill": {
          "duration": 0.271317,
          "end_time": "2022-11-24T09:22:59.901486",
          "exception": false,
          "start_time": "2022-11-24T09:22:59.630169",
          "status": "completed"
        },
        "tags": []
      },
      "outputs": [],
      "source": [
        "# ====================================================\n",
        "# Data Loading\n",
        "# ====================================================\n",
        "train = pd.read_csv('../input/feedback-prize-english-language-learning/train.csv')\n",
        "test = pd.read_csv('../input/feedback-prize-english-language-learning/test.csv')\n",
        "submission = pd.read_csv('../input/feedback-prize-english-language-learning/sample_submission.csv')\n",
        "\n",
        "print(f\"train.shape: {train.shape}\")\n",
        "display(train.head())\n",
        "print(f\"test.shape: {test.shape}\")\n",
        "display(test.head())\n",
        "print(f\"submission.shape: {submission.shape}\")\n",
        "display(submission.head())"
      ]
    },
    {
      "cell_type": "markdown",
      "id": "542905fd",
      "metadata": {
        "id": "542905fd",
        "papermill": {
          "duration": 0.010004,
          "end_time": "2022-11-24T09:22:59.922597",
          "exception": false,
          "start_time": "2022-11-24T09:22:59.912593",
          "status": "completed"
        },
        "tags": []
      },
      "source": [
        "# CV split"
      ]
    },
    {
      "cell_type": "code",
      "execution_count": null,
      "id": "2c81d2d5",
      "metadata": {
        "execution": {
          "iopub.execute_input": "2022-11-24T09:22:59.943440Z",
          "iopub.status.busy": "2022-11-24T09:22:59.943002Z",
          "iopub.status.idle": "2022-11-24T09:23:00.067044Z",
          "shell.execute_reply": "2022-11-24T09:23:00.066166Z"
        },
        "id": "2c81d2d5",
        "outputId": "f74629a3-0a9d-46c9-edfb-92b413abb245",
        "papermill": {
          "duration": 0.136569,
          "end_time": "2022-11-24T09:23:00.069076",
          "exception": false,
          "start_time": "2022-11-24T09:22:59.932507",
          "status": "completed"
        },
        "tags": []
      },
      "outputs": [],
      "source": [
        "# ====================================================\n",
        "# CV split\n",
        "# ====================================================\n",
        "Fold = MultilabelStratifiedKFold(n_splits=CFG.n_fold, shuffle=True, random_state=CFG.seed)\n",
        "for n, (train_index, val_index) in enumerate(Fold.split(train, train[CFG.target_cols])):\n",
        "    train.loc[val_index, 'fold'] = int(n)\n",
        "train['fold'] = train['fold'].astype(int)\n",
        "display(train.groupby('fold').size())"
      ]
    },
    {
      "cell_type": "markdown",
      "id": "b8ecc39a",
      "metadata": {
        "id": "b8ecc39a",
        "papermill": {
          "duration": 0.009837,
          "end_time": "2022-11-24T09:23:00.116636",
          "exception": false,
          "start_time": "2022-11-24T09:23:00.106799",
          "status": "completed"
        },
        "tags": []
      },
      "source": [
        "# Deberta tokenizer load"
      ]
    },
    {
      "cell_type": "code",
      "execution_count": null,
      "id": "9989f5c5",
      "metadata": {
        "execution": {
          "iopub.execute_input": "2022-11-24T09:23:00.137209Z",
          "iopub.status.busy": "2022-11-24T09:23:00.136402Z",
          "iopub.status.idle": "2022-11-24T09:23:01.373395Z",
          "shell.execute_reply": "2022-11-24T09:23:01.372391Z"
        },
        "id": "9989f5c5",
        "outputId": "29816e89-7c31-488f-b069-9996988900be",
        "papermill": {
          "duration": 1.249799,
          "end_time": "2022-11-24T09:23:01.375922",
          "exception": false,
          "start_time": "2022-11-24T09:23:00.126123",
          "status": "completed"
        },
        "tags": []
      },
      "outputs": [],
      "source": [
        "# ====================================================\n",
        "# tokenizer\n",
        "# ====================================================\n",
        "tokenizer = AutoTokenizer.from_pretrained(CFG.model, local_files_only=True)\n",
        "tokenizer.save_pretrained(OUTPUT_DIR+'tokenizer/')\n",
        "CFG.tokenizer = tokenizer"
      ]
    },
    {
      "cell_type": "markdown",
      "id": "0c30353c",
      "metadata": {
        "id": "0c30353c",
        "papermill": {
          "duration": 0.009573,
          "end_time": "2022-11-24T09:23:01.395521",
          "exception": false,
          "start_time": "2022-11-24T09:23:01.385948",
          "status": "completed"
        },
        "tags": []
      },
      "source": [
        "# Dataset"
      ]
    },
    {
      "cell_type": "code",
      "execution_count": null,
      "id": "d6a9e594",
      "metadata": {
        "colab": {
          "referenced_widgets": [
            "ef28521a97e644efaa0ab84ab3959f72"
          ]
        },
        "execution": {
          "iopub.execute_input": "2022-11-24T09:23:01.416807Z",
          "iopub.status.busy": "2022-11-24T09:23:01.416342Z",
          "iopub.status.idle": "2022-11-24T09:23:07.242623Z",
          "shell.execute_reply": "2022-11-24T09:23:07.241605Z"
        },
        "id": "d6a9e594",
        "outputId": "bfdc98a7-2884-4420-99eb-05db1ab6048d",
        "papermill": {
          "duration": 5.839769,
          "end_time": "2022-11-24T09:23:07.245184",
          "exception": false,
          "start_time": "2022-11-24T09:23:01.405415",
          "status": "completed"
        },
        "tags": []
      },
      "outputs": [],
      "source": [
        "# ====================================================\n",
        "# Define max_len\n",
        "# ====================================================\n",
        "lengths = []\n",
        "tk0 = tqdm(train['full_text'].fillna(\"\").values, total=len(train))\n",
        "for text in tk0:\n",
        "    length = len(tokenizer(text, add_special_tokens=False)['input_ids'])\n",
        "    lengths.append(length)\n",
        "CFG.max_len = max(lengths) + 3 # cls & sep & sep\n",
        "LOGGER.info(f\"max_len: {CFG.max_len}\")"
      ]
    },
    {
      "cell_type": "code",
      "execution_count": null,
      "id": "060770f5",
      "metadata": {
        "execution": {
          "iopub.execute_input": "2022-11-24T09:23:07.266759Z",
          "iopub.status.busy": "2022-11-24T09:23:07.266469Z",
          "iopub.status.idle": "2022-11-24T09:23:07.276398Z",
          "shell.execute_reply": "2022-11-24T09:23:07.275516Z"
        },
        "id": "060770f5",
        "papermill": {
          "duration": 0.023121,
          "end_time": "2022-11-24T09:23:07.278605",
          "exception": false,
          "start_time": "2022-11-24T09:23:07.255484",
          "status": "completed"
        },
        "tags": []
      },
      "outputs": [],
      "source": [
        "# ====================================================\n",
        "# Dataset\n",
        "# ====================================================\n",
        "from dataset import (\n",
        "    prepare_input,\n",
        "    TrainDataset,\n",
        "    collate\n",
        ")"
      ]
    },
    {
      "cell_type": "markdown",
      "id": "f6e34910",
      "metadata": {
        "id": "f6e34910",
        "papermill": {
          "duration": 0.009624,
          "end_time": "2022-11-24T09:23:07.298023",
          "exception": false,
          "start_time": "2022-11-24T09:23:07.288399",
          "status": "completed"
        },
        "tags": []
      },
      "source": [
        "# Model import"
      ]
    },
    {
      "cell_type": "code",
      "execution_count": null,
      "id": "5d362952",
      "metadata": {
        "execution": {
          "iopub.execute_input": "2022-11-24T09:23:07.318894Z",
          "iopub.status.busy": "2022-11-24T09:23:07.318624Z",
          "iopub.status.idle": "2022-11-24T09:23:07.332631Z",
          "shell.execute_reply": "2022-11-24T09:23:07.331737Z"
        },
        "id": "5d362952",
        "papermill": {
          "duration": 0.026741,
          "end_time": "2022-11-24T09:23:07.334561",
          "exception": false,
          "start_time": "2022-11-24T09:23:07.307820",
          "status": "completed"
        },
        "tags": []
      },
      "outputs": [],
      "source": [
        "# ====================================================\n",
        "# Model\n",
        "# ====================================================\n",
        "from model_6AT import (\n",
        "    AttentionPool,\n",
        "    CustomModel\n",
        ")"
      ]
    },
    {
      "cell_type": "code",
      "execution_count": null,
      "id": "9200e628",
      "metadata": {
        "execution": {
          "iopub.execute_input": "2022-11-24T09:23:07.375700Z",
          "iopub.status.busy": "2022-11-24T09:23:07.374855Z",
          "iopub.status.idle": "2022-11-24T09:23:07.381750Z",
          "shell.execute_reply": "2022-11-24T09:23:07.380923Z"
        },
        "id": "9200e628",
        "papermill": {
          "duration": 0.019789,
          "end_time": "2022-11-24T09:23:07.383645",
          "exception": false,
          "start_time": "2022-11-24T09:23:07.363856",
          "status": "completed"
        },
        "tags": []
      },
      "outputs": [],
      "source": [
        "# ====================================================\n",
        "# Helper functions\n",
        "# ====================================================\n",
        "from model import AverageMeter\n",
        "from utils import asMinutes, timeSince\n",
        "from main_functions import train_fn, valid_fn"
      ]
    },
    {
      "cell_type": "markdown",
      "id": "ffe7384d",
      "metadata": {
        "id": "ffe7384d",
        "papermill": {
          "duration": 0.009597,
          "end_time": "2022-11-24T09:23:07.464567",
          "exception": false,
          "start_time": "2022-11-24T09:23:07.454970",
          "status": "completed"
        },
        "tags": []
      },
      "source": [
        "# train loop"
      ]
    },
    {
      "cell_type": "code",
      "execution_count": null,
      "id": "d9d70c2b",
      "metadata": {
        "execution": {
          "iopub.execute_input": "2022-11-24T09:23:07.485478Z",
          "iopub.status.busy": "2022-11-24T09:23:07.485185Z",
          "iopub.status.idle": "2022-11-24T09:23:07.503194Z",
          "shell.execute_reply": "2022-11-24T09:23:07.502391Z"
        },
        "id": "d9d70c2b",
        "papermill": {
          "duration": 0.030821,
          "end_time": "2022-11-24T09:23:07.505150",
          "exception": false,
          "start_time": "2022-11-24T09:23:07.474329",
          "status": "completed"
        },
        "tags": []
      },
      "outputs": [],
      "source": [
        "# ====================================================\n",
        "# train loop\n",
        "# ====================================================\n",
        "def train_loop(folds, fold):\n",
        "    \n",
        "    LOGGER.info(f\"========== fold: {fold} training ==========\")\n",
        "\n",
        "    # ====================================================\n",
        "    # loader\n",
        "    # ====================================================\n",
        "    train_folds = folds[folds['fold'] != fold].reset_index(drop=True)\n",
        "    valid_folds = folds[folds['fold'] == fold].reset_index(drop=True)\n",
        "    valid_labels = valid_folds[CFG.target_cols].values\n",
        "    \n",
        "    train_dataset = TrainDataset(CFG, train_folds)\n",
        "    valid_dataset = TrainDataset(CFG, valid_folds)\n",
        "\n",
        "    train_loader = DataLoader(train_dataset,\n",
        "                              batch_size=CFG.batch_size,\n",
        "                              shuffle=True,\n",
        "                              num_workers=CFG.num_workers, pin_memory=True, drop_last=True)\n",
        "    valid_loader = DataLoader(valid_dataset,\n",
        "                              batch_size=CFG.batch_size * 2,\n",
        "                              shuffle=False,\n",
        "                              num_workers=CFG.num_workers, pin_memory=True, drop_last=False)\n",
        "\n",
        "    # ====================================================\n",
        "    # model & optimizer\n",
        "    # ====================================================\n",
        "    model = CustomModel(CFG, config_path=None, pretrained=True)\n",
        "    torch.save(model.config, OUTPUT_DIR+'config.pth')\n",
        "    model.to(device)\n",
        "    \n",
        "    def get_optimizer_params(model, encoder_lr, decoder_lr, weight_decay=0.0):\n",
        "        param_optimizer = list(model.named_parameters())\n",
        "        no_decay = [\"bias\", \"LayerNorm.bias\", \"LayerNorm.weight\"]\n",
        "        optimizer_parameters = [\n",
        "            {'params': [p for n, p in model.model.named_parameters() if not any(nd in n for nd in no_decay)],\n",
        "             'lr': encoder_lr, 'weight_decay': weight_decay},\n",
        "            {'params': [p for n, p in model.model.named_parameters() if any(nd in n for nd in no_decay)],\n",
        "             'lr': encoder_lr, 'weight_decay': 0.0},\n",
        "            {'params': [p for n, p in model.named_parameters() if \"model\" not in n],\n",
        "             'lr': decoder_lr, 'weight_decay': 0.0}\n",
        "        ]\n",
        "        return optimizer_parameters\n",
        "\n",
        "    optimizer_parameters = get_optimizer_params(model,\n",
        "                                                encoder_lr=CFG.encoder_lr, \n",
        "                                                decoder_lr=CFG.decoder_lr,\n",
        "                                                weight_decay=CFG.weight_decay)\n",
        "    optimizer = AdamW(optimizer_parameters, lr=CFG.encoder_lr, eps=CFG.eps, betas=CFG.betas)\n",
        "    \n",
        "    # ====================================================\n",
        "    # scheduler\n",
        "    # ====================================================\n",
        "    def get_scheduler(cfg, optimizer, num_train_steps):\n",
        "        if cfg.scheduler == 'linear':\n",
        "            scheduler = get_linear_schedule_with_warmup(\n",
        "                optimizer, num_warmup_steps=cfg.num_warmup_steps, num_training_steps=num_train_steps\n",
        "            )\n",
        "        elif cfg.scheduler == 'cosine':\n",
        "            scheduler = get_cosine_schedule_with_warmup(\n",
        "                optimizer, num_warmup_steps=cfg.num_warmup_steps, num_training_steps=num_train_steps, num_cycles=cfg.num_cycles\n",
        "            )\n",
        "        return scheduler\n",
        "    \n",
        "    num_train_steps = int(len(train_folds) / CFG.batch_size * CFG.epochs)\n",
        "    scheduler = get_scheduler(CFG, optimizer, num_train_steps)\n",
        "\n",
        "    # ====================================================\n",
        "    # loop\n",
        "    # ====================================================\n",
        "    criterion = nn.SmoothL1Loss(reduction='mean') \n",
        "    \n",
        "    best_score = np.inf\n",
        "\n",
        "    for epoch in range(CFG.epochs):\n",
        "\n",
        "        start_time = time.time()\n",
        "\n",
        "        # train\n",
        "        avg_loss = train_fn(fold, train_loader, model, criterion, optimizer, epoch, scheduler, device)\n",
        "\n",
        "        # eval\n",
        "        avg_val_loss, predictions = valid_fn(valid_loader, model, criterion, device)\n",
        "        \n",
        "        # scoring\n",
        "        score, scores = get_score(valid_labels, predictions)\n",
        "\n",
        "        elapsed = time.time() - start_time\n",
        "\n",
        "        LOGGER.info(f'Epoch {epoch+1} - avg_train_loss: {avg_loss:.4f}  avg_val_loss: {avg_val_loss:.4f}  time: {elapsed:.0f}s')\n",
        "        LOGGER.info(f'Epoch {epoch+1} - Score: {score:.4f}  Scores: {scores}')\n",
        "        \n",
        "        if best_score > score:\n",
        "            best_score = score\n",
        "            LOGGER.info(f'Epoch {epoch+1} - Save Best Score: {best_score:.4f} Model')\n",
        "            torch.save({'model': model.state_dict(),\n",
        "                        'predictions': predictions},\n",
        "                        OUTPUT_DIR+f\"{CFG.model.replace('/', '-')}_fold{fold}_best.pth\")\n",
        "\n",
        "    predictions = torch.load(OUTPUT_DIR+f\"{CFG.model.replace('/', '-')}_fold{fold}_best.pth\", \n",
        "                             map_location=torch.device('cpu'))['predictions']\n",
        "    valid_folds[[f\"pred_{c}\" for c in CFG.target_cols]] = predictions\n",
        "\n",
        "    torch.cuda.empty_cache()\n",
        "    gc.collect()\n",
        "    \n",
        "    return valid_folds\n",
        "\n",
        "def get_result(oof_df):\n",
        "    labels = oof_df[CFG.target_cols].values\n",
        "    preds = oof_df[[f\"pred_{c}\" for c in CFG.target_cols]].values\n",
        "    score, scores = get_score(labels, preds)\n",
        "    LOGGER.info(f'Score: {score:<.4f}  Scores: {scores}')"
      ]
    },
    {
      "cell_type": "code",
      "execution_count": null,
      "id": "89d9e165",
      "metadata": {
        "execution": {
          "iopub.execute_input": "2022-11-24T09:23:07.526286Z",
          "iopub.status.busy": "2022-11-24T09:23:07.525550Z",
          "iopub.status.idle": "2022-11-24T13:29:30.751503Z",
          "shell.execute_reply": "2022-11-24T13:29:30.750576Z"
        },
        "id": "89d9e165",
        "outputId": "7c822584-4bc6-4b5f-ae30-ed43ddd0f5a0",
        "papermill": {
          "duration": 14783.238754,
          "end_time": "2022-11-24T13:29:30.753699",
          "exception": false,
          "start_time": "2022-11-24T09:23:07.514945",
          "status": "completed"
        },
        "tags": []
      },
      "outputs": [],
      "source": [
        "if __name__ == '__main__':\n",
        "    if CFG.train:\n",
        "        oof_df = pd.DataFrame()\n",
        "        for fold in range(CFG.n_fold):\n",
        "            if fold in CFG.trn_fold:\n",
        "                _oof_df = train_loop(train, fold)\n",
        "                oof_df = pd.concat([oof_df, _oof_df])\n",
        "                LOGGER.info(f\"========== fold: {fold} result ==========\")\n",
        "                get_result(_oof_df)\n",
        "        oof_df = oof_df.reset_index(drop=True)\n",
        "        LOGGER.info(f\"========== CV ==========\")\n",
        "        get_result(oof_df)\n",
        "        oof_df.to_pickle(OUTPUT_DIR+'oof_df.pkl')\n",
        "        "
      ]
    },
    {
      "cell_type": "markdown",
      "id": "Ay2e0Qv7G9qE",
      "metadata": {
        "id": "Ay2e0Qv7G9qE"
      },
      "source": [
        "========== fold: 0 result ==========\n",
        "\n",
        "Score: 0.4535 \n",
        "\n",
        "========== fold: 1 result ==========\n",
        "\n",
        "Score: 0.4643  \n",
        "\n",
        "========== fold: 2 result ==========\n",
        "\n",
        "Score: 0.4559  \n",
        "\n",
        "========== fold: 3 result ==========\n",
        "\n",
        "Score: 0.4538  \n",
        "\n",
        "\n",
        "**After averaging the scores:**\n",
        "\n",
        "**========== CV ==========**\n",
        "\n",
        "**Score: 0.4569**\n",
        "\n",
        "Each particular error score: \n",
        "\n",
        "[0.4908865030819827, 0.45083427691211003, 0.41748033615805047, 0.456507211159442, 0.4774611486443539, 0.44828430864670243] \n",
        "\n",
        "for cohesion, syntax, vocabulary, phraseology, grammar, conventions"
      ]
    },
    {
      "cell_type": "code",
      "execution_count": null,
      "id": "9u3fT-FpQtC9",
      "metadata": {
        "id": "9u3fT-FpQtC9"
      },
      "outputs": [],
      "source": []
    },
    {
      "cell_type": "markdown",
      "id": "DsHeat1LDO8H",
      "metadata": {
        "id": "DsHeat1LDO8H"
      },
      "source": [
        "# Model inference"
      ]
    },
    {
      "cell_type": "code",
      "execution_count": null,
      "id": "bd51633a",
      "metadata": {
        "execution": {
          "iopub.execute_input": "2022-11-24T13:29:30.960784Z",
          "iopub.status.busy": "2022-11-24T13:29:30.959365Z",
          "iopub.status.idle": "2022-11-24T13:29:30.965846Z",
          "shell.execute_reply": "2022-11-24T13:29:30.964978Z"
        },
        "id": "bd51633a",
        "papermill": {
          "duration": 0.046887,
          "end_time": "2022-11-24T13:29:30.967746",
          "exception": false,
          "start_time": "2022-11-24T13:29:30.920859",
          "status": "completed"
        },
        "tags": []
      },
      "outputs": [],
      "source": [
        "# CFG class for inference\n",
        "\n",
        "class CFG:\n",
        "    num_workers=4\n",
        "    path=\"./\"\n",
        "    config_path=path+'config.pth'\n",
        "    model=\"/kaggle/input/debertav3base/\"\n",
        "    gradient_checkpointing=False\n",
        "    batch_size=24\n",
        "    target_cols=['cohesion', 'syntax', 'vocabulary', 'phraseology', 'grammar', 'conventions']\n",
        "    seed=42\n",
        "    n_fold=4\n",
        "    trn_fold=[0, 1, 2, 3]\n",
        "\n",
        "CFG.tokenizer = AutoTokenizer.from_pretrained(CFG.path+'tokenizer/')"
      ]
    },
    {
      "cell_type": "markdown",
      "id": "1YTVB-5SDUa5",
      "metadata": {
        "id": "1YTVB-5SDUa5"
      },
      "source": [
        "Loading test sample"
      ]
    },
    {
      "cell_type": "code",
      "execution_count": null,
      "id": "4165d7dd",
      "metadata": {
        "execution": {
          "iopub.execute_input": "2022-11-24T13:29:31.505524Z",
          "iopub.status.busy": "2022-11-24T13:29:31.504128Z",
          "iopub.status.idle": "2022-11-24T13:29:31.542265Z",
          "shell.execute_reply": "2022-11-24T13:29:31.541257Z"
        },
        "id": "4165d7dd",
        "outputId": "cb0960a5-35cf-408a-c6b0-9c0f2dc49126",
        "papermill": {
          "duration": 0.0805,
          "end_time": "2022-11-24T13:29:31.544370",
          "exception": false,
          "start_time": "2022-11-24T13:29:31.463870",
          "status": "completed"
        },
        "tags": []
      },
      "outputs": [],
      "source": [
        "test = pd.read_csv('../input/feedback-prize-english-language-learning/test.csv')\n",
        "submission = pd.read_csv('../input/feedback-prize-english-language-learning/sample_submission.csv')\n",
        "\n",
        "print(f\"test.shape: {test.shape}\")\n",
        "display(test.head())\n",
        "print(f\"submission.shape: {submission.shape}\")\n",
        "display(submission.head())"
      ]
    },
    {
      "cell_type": "code",
      "execution_count": null,
      "id": "1e4dd50a",
      "metadata": {
        "execution": {
          "iopub.execute_input": "2022-11-24T13:29:31.625437Z",
          "iopub.status.busy": "2022-11-24T13:29:31.625087Z",
          "iopub.status.idle": "2022-11-24T13:29:31.647802Z",
          "shell.execute_reply": "2022-11-24T13:29:31.646893Z"
        },
        "id": "1e4dd50a",
        "outputId": "cb49bc0b-f257-404e-c384-2bdcce7a424d",
        "papermill": {
          "duration": 0.06408,
          "end_time": "2022-11-24T13:29:31.649901",
          "exception": false,
          "start_time": "2022-11-24T13:29:31.585821",
          "status": "completed"
        },
        "tags": []
      },
      "outputs": [],
      "source": [
        "test['tokenize_length'] = [len(CFG.tokenizer(text)['input_ids']) for text in test['full_text'].values]\n",
        "test = test.sort_values('tokenize_length', ascending=True).reset_index(drop=True)\n",
        "display(test.head())"
      ]
    },
    {
      "cell_type": "code",
      "execution_count": null,
      "id": "83219056",
      "metadata": {
        "execution": {
          "iopub.execute_input": "2022-11-24T13:29:31.731871Z",
          "iopub.status.busy": "2022-11-24T13:29:31.730196Z",
          "iopub.status.idle": "2022-11-24T13:29:31.738174Z",
          "shell.execute_reply": "2022-11-24T13:29:31.737273Z"
        },
        "id": "83219056",
        "papermill": {
          "duration": 0.050468,
          "end_time": "2022-11-24T13:29:31.740157",
          "exception": false,
          "start_time": "2022-11-24T13:29:31.689689",
          "status": "completed"
        },
        "tags": []
      },
      "outputs": [],
      "source": [
        "# ====================================================\n",
        "# Dataset\n",
        "# ====================================================\n",
        "from dataset import prepare_input, TestDataSet\n",
        "\n",
        "# ====================================================\n",
        "# inference\n",
        "# ====================================================\n",
        "from main_functions import inference_fn\n",
        "\n",
        "from transformers import DataCollatorWithPadding"
      ]
    },
    {
      "cell_type": "markdown",
      "id": "cay_9gICDbbE",
      "metadata": {
        "id": "cay_9gICDbbE"
      },
      "source": [
        "For final prediction, we average inference from 4 models of cross-validation"
      ]
    },
    {
      "cell_type": "code",
      "execution_count": null,
      "id": "b52479d9",
      "metadata": {
        "execution": {
          "iopub.execute_input": "2022-11-24T13:29:32.120599Z",
          "iopub.status.busy": "2022-11-24T13:29:32.120305Z",
          "iopub.status.idle": "2022-11-24T13:30:11.953301Z",
          "shell.execute_reply": "2022-11-24T13:30:11.951954Z"
        },
        "id": "b52479d9",
        "papermill": {
          "duration": 39.875806,
          "end_time": "2022-11-24T13:30:11.956780",
          "exception": false,
          "start_time": "2022-11-24T13:29:32.080974",
          "status": "completed"
        },
        "tags": []
      },
      "outputs": [],
      "source": [
        "test_dataset = TestDataset(CFG, test)\n",
        "test_loader = DataLoader(test_dataset,\n",
        "                         batch_size=CFG.batch_size,\n",
        "                         shuffle=False,\n",
        "                         collate_fn=DataCollatorWithPadding(tokenizer=CFG.tokenizer, padding='longest'),\n",
        "                         num_workers=CFG.num_workers, pin_memory=True, drop_last=False)\n",
        "predictions = []\n",
        "for fold in CFG.trn_fold:\n",
        "    model = CustomModel(CFG, config_path=CFG.config_path, pretrained=False)\n",
        "    state = torch.load(CFG.path+f\"{CFG.model.replace('/', '-')}_fold{fold}_best.pth\",\n",
        "                       map_location=torch.device('cpu'))\n",
        "    model.load_state_dict(state['model'])\n",
        "    prediction = inference_fn(test_loader, model, device)\n",
        "    predictions.append(prediction)\n",
        "    del model, state, prediction; gc.collect()\n",
        "    torch.cuda.empty_cache()\n",
        "predictions = np.mean(predictions, axis=0)"
      ]
    },
    {
      "cell_type": "code",
      "execution_count": null,
      "id": "af9a1fc6",
      "metadata": {
        "execution": {
          "iopub.execute_input": "2022-11-24T13:30:12.077351Z",
          "iopub.status.busy": "2022-11-24T13:30:12.076894Z",
          "iopub.status.idle": "2022-11-24T13:30:12.109623Z",
          "shell.execute_reply": "2022-11-24T13:30:12.108588Z"
        },
        "id": "af9a1fc6",
        "outputId": "612694f4-2170-40f1-c515-0852e2f3a157",
        "papermill": {
          "duration": 0.076406,
          "end_time": "2022-11-24T13:30:12.111712",
          "exception": false,
          "start_time": "2022-11-24T13:30:12.035306",
          "status": "completed"
        },
        "tags": []
      },
      "outputs": [],
      "source": [
        "test[CFG.target_cols] = predictions\n",
        "submission = submission.drop(columns=CFG.target_cols).merge(test[['text_id'] + CFG.target_cols], on='text_id', how='left')\n",
        "display(submission.head())\n",
        "submission[['text_id'] + CFG.target_cols].to_csv('submission.csv', index=False)"
      ]
    },
    {
      "cell_type": "code",
      "execution_count": null,
      "id": "9bf5aae6",
      "metadata": {
        "id": "9bf5aae6",
        "papermill": {
          "duration": 0.038677,
          "end_time": "2022-11-24T13:30:12.189496",
          "exception": false,
          "start_time": "2022-11-24T13:30:12.150819",
          "status": "completed"
        },
        "tags": []
      },
      "outputs": [],
      "source": []
    }
  ],
  "metadata": {
    "colab": {
      "provenance": []
    },
    "kernelspec": {
      "display_name": "Python 3",
      "language": "python",
      "name": "python3"
    },
    "language_info": {
      "codemirror_mode": {
        "name": "ipython",
        "version": 3
      },
      "file_extension": ".py",
      "mimetype": "text/x-python",
      "name": "python",
      "nbconvert_exporter": "python",
      "pygments_lexer": "ipython3",
      "version": "3.8.9 (default, Apr 13 2022, 08:48:07) \n[Clang 13.1.6 (clang-1316.0.21.2.5)]"
    },
    "papermill": {
      "default_parameters": {},
      "duration": 14886.584906,
      "end_time": "2022-11-24T13:30:15.070563",
      "environment_variables": {},
      "exception": null,
      "input_path": "__notebook__.ipynb",
      "output_path": "__notebook__.ipynb",
      "parameters": {},
      "start_time": "2022-11-24T09:22:08.485657",
      "version": "2.3.4"
    },
    "vscode": {
      "interpreter": {
        "hash": "31f2aee4e71d21fbe5cf8b01ff0e069b9275f58929596ceb00d14d90e3e16cd6"
      }
    },
    "widgets": {
      "application/vnd.jupyter.widget-state+json": {}
    }
  },
  "nbformat": 4,
  "nbformat_minor": 5
}
